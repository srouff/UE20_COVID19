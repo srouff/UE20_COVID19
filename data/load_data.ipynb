{
 "cells": [
  {
   "cell_type": "code",
   "execution_count": null,
   "metadata": {},
   "outputs": [],
   "source": [
    "import pandas as pd\n",
    "\n",
    "def load_who_data():\n",
    "    return pd.read_csv(\"./who_covid_19_sit_rep_time_series\", sep=\",\")\n",
    "\n",
    "import os\n",
    "\n",
    "def load_csse_data():\n",
    "    files = os.listdir(\"csse_covid_19_daily_reports\")\n",
    "    for f in files:\n",
    "        date = f.strip('.csv')\n",
    "        "
   ]
  }
 ],
 "metadata": {
  "kernelspec": {
   "display_name": "Python 3",
   "language": "python",
   "name": "python3"
  },
  "language_info": {
   "codemirror_mode": {
    "name": "ipython",
    "version": 3
   },
   "file_extension": ".py",
   "mimetype": "text/x-python",
   "name": "python",
   "nbconvert_exporter": "python",
   "pygments_lexer": "ipython3",
   "version": "3.7.6"
  }
 },
 "nbformat": 4,
 "nbformat_minor": 4
}
