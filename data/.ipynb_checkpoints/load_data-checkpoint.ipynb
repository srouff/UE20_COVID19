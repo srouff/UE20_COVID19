{
 "cells": [
  {
   "cell_type": "code",
   "execution_count": 16,
   "metadata": {},
   "outputs": [],
   "source": [
    "import pandas as pd\n",
    "import os\n",
    "\n",
    "def load_csse_data():\n",
    "    ## On commence par générer le lien relatif aux données en supposant que le script est lancé d'un dossier externe\n",
    "    curdir = __file__.strip(os.path.basename(__file__))\n",
    "    \n",
    "    ## On charge les données\n",
    "    df1 = pd.read_csv(curdir+'csse_covid19_time_series/time_series_covid19_confirmed_global.csv', sep=',')\n",
    "    df2 = pd.read_csv(curdir+'csse_covid19_time_series/time_series_covid19_deaths_global.csv', sep=',')\n",
    "    df3 = pd.read_csv(curdir+'csse_covid19_time_series/time_series_covid19_recovered_global.csv', sep=',')\n",
    "    \n",
    "    ## On filtre sur le sous-ensemble qui nous intéresse (le Canada dans notre cas)\n",
    "    df1 = df1.loc[df1['Country/Region'] == 'Canada']\n",
    "    df2 = df2.loc[df2['Country/Region'] == 'Canada']\n",
    "    df3 = df3.loc[df3['Country/Region'] == 'Canada']\n",
    "    \n",
    "    return [df1.reset_index(),df2.reset_index(),df3.reset_index()]"
   ]
  },
  {
   "cell_type": "code",
   "execution_count": null,
   "metadata": {},
   "outputs": [],
   "source": []
  }
 ],
 "metadata": {
  "kernelspec": {
   "display_name": "Python 3",
   "language": "python",
   "name": "python3"
  },
  "language_info": {
   "codemirror_mode": {
    "name": "ipython",
    "version": 3
   },
   "file_extension": ".py",
   "mimetype": "text/x-python",
   "name": "python",
   "nbconvert_exporter": "python",
   "pygments_lexer": "ipython3",
   "version": "3.7.6"
  }
 },
 "nbformat": 4,
 "nbformat_minor": 4
}
