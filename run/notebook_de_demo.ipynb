{
 "cells": [
  {
   "cell_type": "code",
   "execution_count": 5,
   "metadata": {},
   "outputs": [],
   "source": [
    "import sys\n",
    "import os\n",
    "\n",
    "module_path = os.path.abspath(os.path.join('..'))\n",
    "sys.path.append(module_path+\"\\\\\")\n",
    "sys.path.insert(1, '/home_local/isduser/Desktop/UE20/UE20_COVID19/data')\n",
    "sys.path.insert(1, '/home_local/isduser/Desktop/UE20/UE20_COVID19/model')"
   ]
  },
  {
   "cell_type": "code",
   "execution_count": 6,
   "metadata": {},
   "outputs": [],
   "source": [
    "import load_data as dat\n",
    "import SIRModelSolver\n",
    "import pandas as pd\n",
    "import matplotlib.pyplot as plt\n",
    "import numpy as np\n",
    "from scipy.integrate import odeint\n",
    "import scipy"
   ]
  },
  {
   "cell_type": "code",
   "execution_count": 19,
   "metadata": {},
   "outputs": [
    {
     "name": "stdout",
     "output_type": "stream",
     "text": [
      "     1/22/20  1/23/20  1/24/20  1/25/20  1/26/20  1/27/20  1/28/20  1/29/20  \\\n",
      "35         0        0        0        0        0        0        0        0   \n",
      "36         0        0        0        0        0        0        1        1   \n",
      "37         0        0        0        0        0        0        0        0   \n",
      "38         0        0        0        0        0        0        0        0   \n",
      "39         0        0        0        0        0        0        0        0   \n",
      "40         0        0        0        0        0        0        0        0   \n",
      "41         0        0        0        0        0        0        0        0   \n",
      "42         0        0        0        0        1        1        1        1   \n",
      "43         0        0        0        0        0        0        0        0   \n",
      "44         0        0        0        0        0        0        0        0   \n",
      "45         0        0        0        0        0        0        0        0   \n",
      "231        0        0        0        0        0        0        0        0   \n",
      "244        0        0        0        0        0        0        0        0   \n",
      "245        0        0        0        0        0        0        0        0   \n",
      "\n",
      "     1/30/20  1/31/20  ...  6/9/20  6/10/20  6/11/20  6/12/20  6/13/20  \\\n",
      "35         0        0  ...    7229     7276     7316     7346     7383   \n",
      "36         1        1  ...    2669     2680     2694     2709     2709   \n",
      "37         0        0  ...      13       13       13       13       13   \n",
      "38         0        0  ...     300      300      300      301      303   \n",
      "39         0        0  ...     147      151      153      154      157   \n",
      "40         0        0  ...     261      261      261      261      261   \n",
      "41         0        0  ...    1060     1061     1061     1061     1061   \n",
      "42         1        3  ...   32678    32936    33173    33378    33625   \n",
      "43         0        0  ...      27       27       27       27       27   \n",
      "44         0        0  ...   53185    53341    53485    53666    53824   \n",
      "45         0        0  ...     656      658      660      663      664   \n",
      "231        0        0  ...       0        0        0        0        0   \n",
      "244        0        0  ...       5        5        5        5        5   \n",
      "245        0        0  ...      11       11       11       11       11   \n",
      "\n",
      "     6/14/20  6/15/20  6/16/20  6/17/20  6/18/20  \n",
      "35      7433     7453     7482     7530     7579  \n",
      "36      2709     2745     2756     2775     2783  \n",
      "37        13       13       13       13       13  \n",
      "38       304      304      304      306      308  \n",
      "39       157      160      163      164      164  \n",
      "40       261      261      261      261      261  \n",
      "41      1061     1061     1061     1061     1061  \n",
      "42     33806    33986    34174    34382    34574  \n",
      "43        27       27       27       27       27  \n",
      "44     53952    54054    54146    54263    54383  \n",
      "45       665      683      684      693      708  \n",
      "231        0        0        0        0        0  \n",
      "244        5        5        5        5        5  \n",
      "245       11       11       11       11       11  \n",
      "\n",
      "[14 rows x 149 columns]\n"
     ]
    },
    {
     "name": "stderr",
     "output_type": "stream",
     "text": [
      "/home_local/isduser/anaconda3/lib/python3.7/site-packages/pandas/core/frame.py:3997: SettingWithCopyWarning: \n",
      "A value is trying to be set on a copy of a slice from a DataFrame\n",
      "\n",
      "See the caveats in the documentation: https://pandas.pydata.org/pandas-docs/stable/user_guide/indexing.html#returning-a-view-versus-a-copy\n",
      "  errors=errors,\n"
     ]
    },
    {
     "data": {
      "text/html": [
       "<div>\n",
       "<style scoped>\n",
       "    .dataframe tbody tr th:only-of-type {\n",
       "        vertical-align: middle;\n",
       "    }\n",
       "\n",
       "    .dataframe tbody tr th {\n",
       "        vertical-align: top;\n",
       "    }\n",
       "\n",
       "    .dataframe thead th {\n",
       "        text-align: right;\n",
       "    }\n",
       "</style>\n",
       "<table border=\"1\" class=\"dataframe\">\n",
       "  <thead>\n",
       "    <tr style=\"text-align: right;\">\n",
       "      <th></th>\n",
       "      <th>t</th>\n",
       "      <th>I</th>\n",
       "      <th>D</th>\n",
       "    </tr>\n",
       "  </thead>\n",
       "  <tbody>\n",
       "    <tr>\n",
       "      <th>0</th>\n",
       "      <td>0</td>\n",
       "      <td>0</td>\n",
       "      <td>0</td>\n",
       "    </tr>\n",
       "    <tr>\n",
       "      <th>1</th>\n",
       "      <td>1</td>\n",
       "      <td>0</td>\n",
       "      <td>0</td>\n",
       "    </tr>\n",
       "    <tr>\n",
       "      <th>2</th>\n",
       "      <td>2</td>\n",
       "      <td>0</td>\n",
       "      <td>0</td>\n",
       "    </tr>\n",
       "    <tr>\n",
       "      <th>3</th>\n",
       "      <td>3</td>\n",
       "      <td>0</td>\n",
       "      <td>0</td>\n",
       "    </tr>\n",
       "    <tr>\n",
       "      <th>4</th>\n",
       "      <td>4</td>\n",
       "      <td>1</td>\n",
       "      <td>0</td>\n",
       "    </tr>\n",
       "    <tr>\n",
       "      <th>...</th>\n",
       "      <td>...</td>\n",
       "      <td>...</td>\n",
       "      <td>...</td>\n",
       "    </tr>\n",
       "    <tr>\n",
       "      <th>144</th>\n",
       "      <td>144</td>\n",
       "      <td>100404</td>\n",
       "      <td>8218</td>\n",
       "    </tr>\n",
       "    <tr>\n",
       "      <th>145</th>\n",
       "      <td>145</td>\n",
       "      <td>100763</td>\n",
       "      <td>8228</td>\n",
       "    </tr>\n",
       "    <tr>\n",
       "      <th>146</th>\n",
       "      <td>146</td>\n",
       "      <td>101087</td>\n",
       "      <td>8271</td>\n",
       "    </tr>\n",
       "    <tr>\n",
       "      <th>147</th>\n",
       "      <td>147</td>\n",
       "      <td>101491</td>\n",
       "      <td>8312</td>\n",
       "    </tr>\n",
       "    <tr>\n",
       "      <th>148</th>\n",
       "      <td>148</td>\n",
       "      <td>101877</td>\n",
       "      <td>8361</td>\n",
       "    </tr>\n",
       "  </tbody>\n",
       "</table>\n",
       "<p>149 rows × 3 columns</p>\n",
       "</div>"
      ],
      "text/plain": [
       "       t       I     D\n",
       "0      0       0     0\n",
       "1      1       0     0\n",
       "2      2       0     0\n",
       "3      3       0     0\n",
       "4      4       1     0\n",
       "..   ...     ...   ...\n",
       "144  144  100404  8218\n",
       "145  145  100763  8228\n",
       "146  146  101087  8271\n",
       "147  147  101491  8312\n",
       "148  148  101877  8361\n",
       "\n",
       "[149 rows x 3 columns]"
      ]
     },
     "execution_count": 19,
     "metadata": {},
     "output_type": "execute_result"
    }
   ],
   "source": [
    "## Import the data\n",
    "df = dat.load_csse_data()\n",
    "df"
   ]
  },
  {
   "cell_type": "markdown",
   "metadata": {},
   "source": [
    "# Partie SIR"
   ]
  },
  {
   "cell_type": "code",
   "execution_count": 8,
   "metadata": {},
   "outputs": [
    {
     "data": {
      "image/png": "[encoded data removed]",
      "text/plain": [
       "<Figure size 432x288 with 1 Axes>"
      ]
     },
     "metadata": {},
     "output_type": "display_data"
    }
   ],
   "source": [
    "## Total population\n",
    "N = 37_262_000\n",
    "## Initial number of infected\n",
    "I0 = 1\n",
    "## Initial number of recoveries\n",
    "R0 = 0\n",
    "## Initial number of susceptibles people\n",
    "S0 = N - I0 - R0\n",
    "## Number of people infected by one diseased person\n",
    "β = 2\n",
    "## Recovery rate\n",
    "γ = 2\n",
    "## A grid of time points (in days)\n",
    "t = np.linspace(0, 100)\n",
    "## Initial conditions vector\n",
    "y0 = S0, I0, R0\n",
    "\n",
    "sir = SIRModelSolver.SIRModelSolver(β, γ, I0, R0, N)\n",
    "S, I, R = odeint(sir.deriv, y0, t, args=(N, β, γ)).T\n",
    "\n",
    "# Plot the data on three separate curves for S(t), I(t) and R(t)\n",
    "fig = plt.figure(facecolor='w')\n",
    "ax = fig.add_subplot(111, facecolor='#dddddd', axisbelow=True)\n",
    "ax.plot(t, I, 'r', alpha=0.5, lw=2, label='Infected')\n",
    "ax.set_xlabel('Time /days')\n",
    "ax.set_ylabel('Number (1000s)')\n",
    "ax.yaxis.set_tick_params(length=0)\n",
    "ax.xaxis.set_tick_params(length=0)\n",
    "ax.grid(b=True, which='major', c='w', lw=2, ls='-')\n",
    "legend = ax.legend()\n",
    "legend.get_frame().set_alpha(0.5)\n",
    "for spine in ('top', 'right', 'bottom', 'left'):\n",
    "    ax.spines[spine].set_visible(False)\n",
    "    \n",
    "df[['I','D']].plot(ax=ax)\n",
    "\n",
    "plt.show()"
   ]
  },
  {
   "cell_type": "code",
   "execution_count": 10,
   "metadata": {},
   "outputs": [
    {
     "name": "stderr",
     "output_type": "stream",
     "text": [
      "/home_local/isduser/anaconda3/lib/python3.7/site-packages/scipy/integrate/odepack.py:248: ODEintWarning: Excess work done on this call (perhaps wrong Dfun type). Run with full_output = 1 to get quantitative information.\n",
      "  warnings.warn(warning_msg, ODEintWarning)\n",
      "/home_local/isduser/Desktop/UE20/UE20_COVID19/model/SIRModelSolver.py:33: RuntimeWarning: overflow encountered in double_scalars\n",
      "  dSdt = -β * S * I / N\n",
      "/home_local/isduser/Desktop/UE20/UE20_COVID19/model/SIRModelSolver.py:34: RuntimeWarning: overflow encountered in double_scalars\n",
      "  dIdt = β * S * I / N - γ * I\n",
      "/home_local/isduser/Desktop/UE20/UE20_COVID19/model/SIRModelSolver.py:35: RuntimeWarning: overflow encountered in double_scalars\n",
      "  dRdt = γ * I\n"
     ]
    },
    {
     "name": "stdout",
     "output_type": "stream",
     "text": [
      "[β,γ] = [[1.30183964 1.20095968]], Barres d'erreur = [[[0.00033782 0.00033725]\n",
      " [0.00033725 0.00033708]]]\n"
     ]
    },
    {
     "data": {
      "text/plain": [
       "<SIRModelSolver.SIRModelSolver at 0x7f42a1741d10>"
      ]
     },
     "execution_count": 10,
     "metadata": {},
     "output_type": "execute_result"
    }
   ],
   "source": [
    "t2 = range(149)\n",
    "sir2 = SIRModelSolver.SIRModelSolver(β, γ, R0, I0, N)\n",
    "sir2.fit(t2, df['I'])"
   ]
  },
  {
   "cell_type": "markdown",
   "metadata": {},
   "source": [
    "# Partie SEIR"
   ]
  },
  {
   "cell_type": "code",
   "execution_count": 11,
   "metadata": {},
   "outputs": [],
   "source": [
    "import SEIRModelSolver"
   ]
  },
  {
   "cell_type": "code",
   "execution_count": 12,
   "metadata": {},
   "outputs": [
    {
     "name": "stderr",
     "output_type": "stream",
     "text": [
      "/home_local/isduser/Desktop/UE20/UE20_COVID19/model/SEIRModelSolver.py:38: RuntimeWarning: overflow encountered in double_scalars\n",
      "  dEdt = β * S * I/N - (σ * E)\n",
      "/home_local/isduser/Desktop/UE20/UE20_COVID19/model/SEIRModelSolver.py:39: RuntimeWarning: overflow encountered in double_scalars\n",
      "  dIdt = σ * E - γ * I\n"
     ]
    },
    {
     "name": "stdout",
     "output_type": "stream",
     "text": [
      "[β,σ,γ] = [[1.76881564 1.82148449 1.57599431]], Barres d'erreur = [[[0.00017555 0.00038698 0.00019886]\n",
      " [0.00038698 0.00261502 0.00052055]\n",
      " [0.00019886 0.00052055 0.00023067]]]\n"
     ]
    },
    {
     "data": {
      "text/plain": [
       "<SEIRModelSolver.SEIRModelSolver at 0x7f42a16e3410>"
      ]
     },
     "execution_count": 12,
     "metadata": {},
     "output_type": "execute_result"
    }
   ],
   "source": [
    "## Total population\n",
    "N = 37_262_000\n",
    "## Initial number of exposed people \n",
    "E0 = 1\n",
    "## Initial number of infected\n",
    "I0 = 1\n",
    "## Initial number of recoveries\n",
    "R0 = 0\n",
    "## Number of people infected by one diseased person\n",
    "β = 2\n",
    "## Incubation rate of the virus\n",
    "σ = 14\n",
    "## Recovery rate\n",
    "γ = 2\n",
    "\n",
    "seir = SEIRModelSolver.SEIRModelSolver(β, σ, γ, E0, I0, R0, N)\n",
    "t = range(149)\n",
    "seir.fit(t, df['I']-df['D'])"
   ]
  },
  {
   "cell_type": "markdown",
   "metadata": {},
   "source": [
    "# Partie SEIRD"
   ]
  },
  {
   "cell_type": "code",
   "execution_count": 14,
   "metadata": {},
   "outputs": [],
   "source": [
    "import SEIRDModelSolver"
   ]
  },
  {
   "cell_type": "code",
   "execution_count": 15,
   "metadata": {},
   "outputs": [
    {
     "name": "stdout",
     "output_type": "stream",
     "text": [
      "[β,σ,γ,µ] = [[1. 1. 1. 1.]], Barres d'erreur = [[[inf inf inf inf]\n",
      " [inf inf inf inf]\n",
      " [inf inf inf inf]\n",
      " [inf inf inf inf]]]\n"
     ]
    },
    {
     "name": "stderr",
     "output_type": "stream",
     "text": [
      "/home_local/isduser/anaconda3/lib/python3.7/site-packages/scipy/optimize/minpack.py:808: OptimizeWarning: Covariance of the parameters could not be estimated\n",
      "  category=OptimizeWarning)\n"
     ]
    },
    {
     "data": {
      "text/plain": [
       "<SEIRDModelSolver.SEIRDModelSolver at 0x7f42a1292d10>"
      ]
     },
     "execution_count": 15,
     "metadata": {},
     "output_type": "execute_result"
    }
   ],
   "source": [
    "## Total population\n",
    "N = 37_262_000\n",
    "## Initial number of exposed people \n",
    "E0 = 1\n",
    "## Initial number of infected\n",
    "I0 = 1\n",
    "## Initial number of recoveries\n",
    "R0 = 0\n",
    "## Initial nmber of deaths\n",
    "D0 = 0\n",
    "## Number of people infected by one diseased person\n",
    "β = 2\n",
    "## Incubation rate of the virus\n",
    "σ = 5\n",
    "## Recovery rate\n",
    "γ = 2\n",
    "## Mortality rate due to the disease\n",
    "µ = 0.03\n",
    "\n",
    "seird = SEIRDModelSolver.SEIRDModelSolver(β, σ, γ, µ, E0, I0, R0, D0, N)\n",
    "t = range(149)\n",
    "seird.fit(t, df['I'])"
   ]
  },
  {
   "cell_type": "markdown",
   "metadata": {},
   "source": [
    "## La partie qui suit n'est pas totallement fonctionnelle"
   ]
  },
  {
   "cell_type": "code",
   "execution_count": null,
   "metadata": {},
   "outputs": [],
   "source": [
    "import SEIRDModelSolver\n",
    "\n",
    "## Population totale\n",
    "N = 1_000_000\n",
    "## Durée de l'infection\n",
    "D = 14.0\n",
    "## Nombre de personnes qui recover chaque jour\n",
    "gamma = 1.0/D\n",
    "## Temps d'incubation du virus\n",
    "delta = 1./14.\n",
    "## Nombre de personnes total qu'une personne infecte\n",
    "R_0 = 3.\n",
    "##\n",
    "beta = R_0 * gamma\n",
    "## Taux de mortalité\n",
    "alpha = 0.02\n",
    "## Nombre de jours avant de mourir d'une infection\n",
    "rho = 1./7.\n",
    "## Susceptible / Exposés / Infectés / Recoveré\n",
    "S0, E0, I0, R0, D0 = N-1, 1, 0, 0, 0\n",
    "t = np.linspace(0,99,100)\n",
    "## Conditions initiales\n",
    "y0 = S0, E0, I0, R0, D0\n",
    "\n",
    "seird = SEIRDModelSolver.SEIRDModelSolver(alpha, beta, delta, gamma, rho)\n",
    "\n",
    "ret = seird._deriv(y0, t, N, alpha, beta, delta, gamma, rho)\n",
    "\n",
    "plotseird(t, S, E, I, R, D)"
   ]
  },
  {
   "cell_type": "code",
   "execution_count": null,
   "metadata": {},
   "outputs": [],
   "source": []
  }
 ],
 "metadata": {
  "kernelspec": {
   "display_name": "Python 3",
   "language": "python",
   "name": "python3"
  },
  "language_info": {
   "codemirror_mode": {
    "name": "ipython",
    "version": 3
   },
   "file_extension": ".py",
   "mimetype": "text/x-python",
   "name": "python",
   "nbconvert_exporter": "python",
   "pygments_lexer": "ipython3",
   "version": "3.7.7"
  }
 },
 "nbformat": 4,
 "nbformat_minor": 4
}
