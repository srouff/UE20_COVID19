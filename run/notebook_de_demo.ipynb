{
 "cells": [
  {
   "cell_type": "code",
   "execution_count": 1,
   "metadata": {},
   "outputs": [],
   "source": [
    "import sys\n",
    "import os\n",
    "\n",
    "module_path = os.path.abspath(os.path.join('..'))\n",
    "if module_path not in sys.path:\n",
    "    sys.path.append(module_path+\"\\\\\")"
   ]
  },
  {
   "cell_type": "code",
   "execution_count": 2,
   "metadata": {},
   "outputs": [],
   "source": [
    "import data.load_data as dat\n",
    "from model import SIRModelSolver\n",
    "import pandas as pd\n",
    "import matplotlib.pyplot as plt\n",
    "import numpy as np\n",
    "from scipy.integrate import odeint\n",
    "import re"
   ]
  },
  {
   "cell_type": "code",
   "execution_count": 3,
   "metadata": {},
   "outputs": [
    {
     "name": "stderr",
     "output_type": "stream",
     "text": [
      "C:\\Users\\never\\anaconda3\\lib\\site-packages\\pandas\\core\\frame.py:3997: SettingWithCopyWarning: \n",
      "A value is trying to be set on a copy of a slice from a DataFrame\n",
      "\n",
      "See the caveats in the documentation: https://pandas.pydata.org/pandas-docs/stable/user_guide/indexing.html#returning-a-view-versus-a-copy\n",
      "  errors=errors,\n"
     ]
    }
   ],
   "source": [
    "## Import the data\n",
    "df = dat.load_csse_data()"
   ]
  },
  {
   "cell_type": "code",
   "execution_count": 9,
   "metadata": {},
   "outputs": [
    {
     "data": {
      "image/png": "[encoded data removed]",
      "text/plain": [
       "<Figure size 432x288 with 1 Axes>"
      ]
     },
     "metadata": {},
     "output_type": "display_data"
    }
   ],
   "source": [
    "## Total population\n",
    "N = 37_262_000\n",
    "## Initial number of infected\n",
    "I0 = 1\n",
    "## Initial number of recoveries\n",
    "R0 = 0\n",
    "## Initial number of susceptibles people\n",
    "S0 = N - I0 - R0\n",
    "## Number of people infected by one diseased person\n",
    "β = 2\n",
    "## Recovery rate\n",
    "γ = 2\n",
    "## A grid of time points (in days)\n",
    "t = np.linspace(0, 100)\n",
    "## Initial conditions vector\n",
    "y0 = S0, I0, R0\n",
    "\n",
    "sir = SIRModelSolver.SIRModelSolver(β, γ)\n",
    "S, I, R = odeint(sir._deriv, y0, t, args=(N, β, γ)).T\n",
    "\n",
    "# Plot the data on three separate curves for S(t), I(t) and R(t)\n",
    "fig = plt.figure(facecolor='w')\n",
    "ax = fig.add_subplot(111, facecolor='#dddddd', axisbelow=True)\n",
    "ax.plot(t, I, 'r', alpha=0.5, lw=2, label='Infected')\n",
    "ax.set_xlabel('Time /days')\n",
    "ax.set_ylabel('Number (1000s)')\n",
    "ax.yaxis.set_tick_params(length=0)\n",
    "ax.xaxis.set_tick_params(length=0)\n",
    "ax.grid(b=True, which='major', c='w', lw=2, ls='-')\n",
    "legend = ax.legend()\n",
    "legend.get_frame().set_alpha(0.5)\n",
    "for spine in ('top', 'right', 'bottom', 'left'):\n",
    "    ax.spines[spine].set_visible(False)\n",
    "    \n",
    "df[['I','D']].plot(ax=ax)\n",
    "\n",
    "plt.show()"
   ]
  },
  {
   "cell_type": "code",
   "execution_count": 22,
   "metadata": {},
   "outputs": [
    {
     "name": "stdout",
     "output_type": "stream",
     "text": [
      "Params [β, γ] = [[2.25944612 2.13510242]], Barres d'erreurs = [[[0.00038001 0.00037602]\n",
      " [0.00037602 0.00037218]]]\n"
     ]
    },
    {
     "name": "stderr",
     "output_type": "stream",
     "text": [
      "C:\\Users\\never\\anaconda3\\lib\\site-packages\\ipykernel_launcher.py:7: RuntimeWarning: overflow encountered in double_scalars\n",
      "  import sys\n",
      "C:\\Users\\never\\anaconda3\\lib\\site-packages\\ipykernel_launcher.py:8: RuntimeWarning: overflow encountered in double_scalars\n",
      "  \n",
      "C:\\Users\\never\\anaconda3\\lib\\site-packages\\ipykernel_launcher.py:9: RuntimeWarning: overflow encountered in double_scalars\n",
      "  if __name__ == '__main__':\n"
     ]
    }
   ],
   "source": [
    "##On va désormais tenter de curve fit sur nos données au lieu de définir les paramètres\n",
    "f = lambda t, β, γ : (odeint(deriv, y0, t, args=(N, β, γ)).T)[1]\n",
    "params, covariance = scipy.optimize.curve_fit(f, range(df.shape[0]), df['I'])\n",
    "print(\"Params [β, γ] = [%s], Barres d'erreurs = [%s]\" % (params, covariance))"
   ]
  },
  {
   "cell_type": "markdown",
   "metadata": {},
   "source": [
    "## La partie qui suit n'est pas totallement fonctionnelle"
   ]
  },
  {
   "cell_type": "code",
   "execution_count": 8,
   "metadata": {},
   "outputs": [],
   "source": [
    "def plotseird(t, S, E, I, R, D=None, L=None, R0=None, Alpha=None, CFR=None):\n",
    "    f, ax = plt.subplots(1,1,figsize=(10,4))\n",
    "    ax.plot(t, S, 'b', alpha=0.7, linewidth=2, label='Susceptible')\n",
    "    ax.plot(t, E, 'y', alpha=0.7, linewidth=2, label='Exposed')\n",
    "    ax.plot(t, I, 'r', alpha=0.7, linewidth=2, label='Infected')\n",
    "    ax.plot(t, R, 'g', alpha=0.7, linewidth=2, label='Recovered')\n",
    "    if D is not None:\n",
    "        ax.plot(t, D, 'k', alpha=0.7, linewidth=2, label='Deaths')\n",
    "        ax.plot(t, S+E+I+R+D, 'c--', alpha=0.7, linewidth=2, label='Total')\n",
    "    else:\n",
    "        ax.plot(t, S+E+I+R, 'c--', alpha=0.7, linewidth=2, label='Total')\n",
    "\n",
    "    ax.set_xlabel('Time (days)')\n",
    "\n",
    "    ax.yaxis.set_tick_params(length=0)\n",
    "    ax.xaxis.set_tick_params(length=0)\n",
    "    ax.grid(b=True, which='major', c='w', lw=2, ls='-')\n",
    "    legend = ax.legend(borderpad=2.0)\n",
    "    legend.get_frame().set_alpha(0.5)\n",
    "    for spine in ('top', 'right', 'bottom', 'left'):\n",
    "        ax.spines[spine].set_visible(False)\n",
    "    if L is not None:\n",
    "        plt.title(\"Lockdown after {} days\".format(L))\n",
    "    plt.show();\n",
    "\n",
    "    if R0 is not None or CFR is not None:\n",
    "        f = plt.figure(figsize=(12,4))\n",
    "\n",
    "    if R0 is not None:\n",
    "        # sp1\n",
    "        ax1 = f.add_subplot(121)\n",
    "        ax1.plot(t, R0, 'b--', alpha=0.7, linewidth=2, label='R_0')\n",
    "\n",
    "        ax1.set_xlabel('Time (days)')\n",
    "        ax1.title.set_text('R_0')\n",
    "        ax1.yaxis.set_tick_params(length=0)\n",
    "        ax1.xaxis.set_tick_params(length=0)\n",
    "        ax1.grid(b=True, which='major', c='w', lw=2, ls='-')\n",
    "        legend = ax1.legend()\n",
    "        legend.get_frame().set_alpha(0.5)\n",
    "    for spine in ('top', 'right', 'bottom', 'left'):\n",
    "        ax.spines[spine].set_visible(False)\n",
    "\n",
    "    if Alpha is not None:\n",
    "        # sp2\n",
    "        ax2 = f.add_subplot(122)\n",
    "        ax2.plot(t, Alpha, 'r--', alpha=0.7, linewidth=2, label='alpha')\n",
    "\n",
    "    ax2.set_xlabel('Time (days)')\n",
    "    ax2.title.set_text('fatality rate over time')\n",
    "    # ax.set_ylabel('Number (1000s)')\n",
    "    # ax.set_ylim(0,1.2)\n",
    "    ax2.yaxis.set_tick_params(length=0)\n",
    "    ax2.xaxis.set_tick_params(length=0)\n",
    "    ax2.grid(b=True, which='major', c='w', lw=2, ls='-')\n",
    "    legend = ax2.legend()\n",
    "    legend.get_frame().set_alpha(0.5)\n",
    "    for spine in ('top', 'right', 'bottom', 'left'):\n",
    "        ax.spines[spine].set_visible(False)\n",
    "\n",
    "    plt.show();"
   ]
  },
  {
   "cell_type": "code",
   "execution_count": 14,
   "metadata": {},
   "outputs": [
    {
     "ename": "IndexError",
     "evalue": "list assignment index out of range",
     "output_type": "error",
     "traceback": [
      "\u001b[1;31m---------------------------------------------------------------------------\u001b[0m",
      "\u001b[1;31mIndexError\u001b[0m                                Traceback (most recent call last)",
      "\u001b[1;32m<ipython-input-14-4bc3ca3aeb35>\u001b[0m in \u001b[0;36m<module>\u001b[1;34m\u001b[0m\n\u001b[0;32m     18\u001b[0m \u001b[0mrho\u001b[0m \u001b[1;33m=\u001b[0m \u001b[1;36m1.\u001b[0m\u001b[1;33m/\u001b[0m\u001b[1;36m7.\u001b[0m\u001b[1;33m\u001b[0m\u001b[1;33m\u001b[0m\u001b[0m\n\u001b[0;32m     19\u001b[0m \u001b[1;31m## Susceptible / Exposés / Infectés / Recoveré\u001b[0m\u001b[1;33m\u001b[0m\u001b[1;33m\u001b[0m\u001b[1;33m\u001b[0m\u001b[0m\n\u001b[1;32m---> 20\u001b[1;33m \u001b[0mS\u001b[0m\u001b[1;33m[\u001b[0m\u001b[1;36m0\u001b[0m\u001b[1;33m]\u001b[0m\u001b[1;33m,\u001b[0m \u001b[0mE\u001b[0m\u001b[1;33m[\u001b[0m\u001b[1;36m0\u001b[0m\u001b[1;33m]\u001b[0m\u001b[1;33m,\u001b[0m \u001b[0mI\u001b[0m\u001b[1;33m[\u001b[0m\u001b[1;36m0\u001b[0m\u001b[1;33m]\u001b[0m\u001b[1;33m,\u001b[0m \u001b[0mR\u001b[0m\u001b[1;33m[\u001b[0m\u001b[1;36m0\u001b[0m\u001b[1;33m]\u001b[0m \u001b[1;33m=\u001b[0m \u001b[0mN\u001b[0m\u001b[1;33m-\u001b[0m\u001b[1;36m1\u001b[0m\u001b[1;33m,\u001b[0m \u001b[1;36m1\u001b[0m\u001b[1;33m,\u001b[0m \u001b[1;36m0\u001b[0m\u001b[1;33m,\u001b[0m \u001b[1;36m0\u001b[0m\u001b[1;33m\u001b[0m\u001b[1;33m\u001b[0m\u001b[0m\n\u001b[0m\u001b[0;32m     21\u001b[0m \u001b[0mt\u001b[0m \u001b[1;33m=\u001b[0m \u001b[0mnp\u001b[0m\u001b[1;33m.\u001b[0m\u001b[0mlinspace\u001b[0m\u001b[1;33m(\u001b[0m\u001b[1;36m0\u001b[0m\u001b[1;33m,\u001b[0m\u001b[1;36m100\u001b[0m\u001b[1;33m,\u001b[0m\u001b[1;36m100\u001b[0m\u001b[1;33m)\u001b[0m\u001b[1;33m\u001b[0m\u001b[1;33m\u001b[0m\u001b[0m\n\u001b[0;32m     22\u001b[0m \u001b[1;33m\u001b[0m\u001b[0m\n",
      "\u001b[1;31mIndexError\u001b[0m: list assignment index out of range"
     ]
    }
   ],
   "source": [
    "from model import SEIRDModelSolver\n",
    "\n",
    "## Population totale\n",
    "N = 1_000_000\n",
    "## Durée de l'infection\n",
    "D = 14.0\n",
    "## Nombre de personnes qui recover chaque jour\n",
    "gamma = 1.0/D\n",
    "## Temps d'incubation du virus\n",
    "delta = 1./14.\n",
    "## Nombre de personnes total qu'une personne infecte\n",
    "R_0 = 3.\n",
    "##\n",
    "beta = R_0 * gamma\n",
    "## Taux de mortalité\n",
    "alpha = 0.02\n",
    "## Nombre de jours avant de mourir d'une infection\n",
    "rho = 1./7.\n",
    "## Susceptible / Exposés / Infectés / Recoveré\n",
    "S0, E0, I0, R0, D0 = N-1, 1, 0, 0, 0\n",
    "t = np.linspace(0,99,100)\n",
    "## Conditions initiales\n",
    "y0 = S0, E0, I0, R0, D0\n",
    "\n",
    "seird = SEIRDModelSolver.SEIRDModelSolver(alpha, beta, delta, gamma, rho)\n",
    "\n",
    "ret = seird._deriv(y0, t, alpha, beta, delta, gamma, rho)\n",
    "\n",
    "plotseird(t, S, E, I, R, D)"
   ]
  },
  {
   "cell_type": "code",
   "execution_count": null,
   "metadata": {},
   "outputs": [],
   "source": []
  }
 ],
 "metadata": {
  "kernelspec": {
   "display_name": "Python 3",
   "language": "python",
   "name": "python3"
  },
  "language_info": {
   "codemirror_mode": {
    "name": "ipython",
    "version": 3
   },
   "file_extension": ".py",
   "mimetype": "text/x-python",
   "name": "python",
   "nbconvert_exporter": "python",
   "pygments_lexer": "ipython3",
   "version": "3.7.6"
  }
 },
 "nbformat": 4,
 "nbformat_minor": 4
}
