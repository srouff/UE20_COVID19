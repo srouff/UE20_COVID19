{
 "cells": [
  {
   "cell_type": "code",
   "execution_count": 1,
   "metadata": {},
   "outputs": [],
   "source": [
    "import sys\n",
    "import os\n",
    "\n",
    "module_path = os.path.abspath(os.path.join('..'))\n",
    "if module_path not in sys.path:\n",
    "    sys.path.append(module_path+\"\\\\\")"
   ]
  },
  {
   "cell_type": "code",
   "execution_count": 2,
   "metadata": {},
   "outputs": [],
   "source": [
    "import data.load_data as dat\n",
    "from model import SIRModelSolver\n",
    "import pandas as pd\n",
    "import matplotlib.pyplot as plt\n",
    "import numpy as np"
   ]
  },
  {
   "cell_type": "code",
   "execution_count": 3,
   "metadata": {},
   "outputs": [],
   "source": [
    "## Importer les données\n",
    "df_cdr = dat.load_csse_data()"
   ]
  },
  {
   "cell_type": "code",
   "execution_count": 4,
   "metadata": {},
   "outputs": [
    {
     "data": {
      "image/png": "[encoded data removed]",
      "text/plain": [
       "<Figure size 432x288 with 1 Axes>"
      ]
     },
     "metadata": {
      "needs_background": "light"
     },
     "output_type": "display_data"
    }
   ],
   "source": [
    "N = 1500\n",
    "\n",
    "ndays = 100\n",
    "dt = 1\n",
    "infection_rate = (1.0/3.0)\n",
    "recovery_rate = (1.0/14.0)\n",
    "\n",
    "S = np.zeros(ndays) #Infectibles\n",
    "I = np.zeros(ndays) #Infectés\n",
    "R = np.zeros(ndays) #Soignés ou morts\n",
    "t = np.arange(ndays) * dt\n",
    "\n",
    "I[0] = 0.001\n",
    "S[0] = 1. - I[0]\n",
    "R[0] = 0.\n",
    "\n",
    "sir = SIRModelSolver.SIRModelSolver(infection_rate, recovery_rate, S, I, R)\n",
    "S,I,R = sir.deriv(ndays, dt)\n",
    "\n",
    "fig = plt.figure(1)\n",
    "fig.clf()\n",
    "plt.plot(t,S,'r',lw=3, label=\"Susceptible\")\n",
    "plt.plot(t,I,'g', lw=3, label=\"Infective\")\n",
    "plt.plot(t,R, 'b', lw=3, label=\"Recovered\")\n",
    "\n",
    "plt.legend()\n",
    "plt.show()"
   ]
  },
  {
   "cell_type": "code",
   "execution_count": null,
   "metadata": {},
   "outputs": [],
   "source": []
  }
 ],
 "metadata": {
  "kernelspec": {
   "display_name": "Python 3",
   "language": "python",
   "name": "python3"
  },
  "language_info": {
   "codemirror_mode": {
    "name": "ipython",
    "version": 3
   },
   "file_extension": ".py",
   "mimetype": "text/x-python",
   "name": "python",
   "nbconvert_exporter": "python",
   "pygments_lexer": "ipython3",
   "version": "3.7.6"
  }
 },
 "nbformat": 4,
 "nbformat_minor": 4
}
