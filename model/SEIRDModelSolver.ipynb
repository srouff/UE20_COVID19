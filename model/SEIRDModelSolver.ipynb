{
 "cells": [
  {
   "cell_type": "code",
   "execution_count": null,
   "metadata": {},
   "outputs": [],
   "source": [
    "import numpy as np\n",
    "import numpy as np\n",
    "import scipy\n",
    "from scipy.integrate import odeint\n",
    "\n",
    "class SEIRDModelSolver():\n",
    "    def __init__(self, β_0, σ_0, γ_0, µ_0, E0, I0, R0, D0, N):\n",
    "        self.β0_ = β_0\n",
    "        self.σ0_ = σ_0\n",
    "        self.γ0_ = γ_0\n",
    "        self.µ0_ = µ_0\n",
    "        \n",
    "        self.β_ = None\n",
    "        self.σ_ = None\n",
    "        self.γ_ = None\n",
    "        self.µ_ = None\n",
    "        \n",
    "        self.N_ = N\n",
    "        self.S0_ = N - E0 - I0 - R0 - D0\n",
    "        self.E0_ = E0\n",
    "        self.I0_ = I0\n",
    "        self.R0_ = R0\n",
    "        self.D0_ = D0\n",
    "        \n",
    "    def fit(self, X, y):\n",
    "        self.β_ = self.β0_\n",
    "        self.γ_ = self.γ0_\n",
    "        self.σ_ = self.σ0_\n",
    "        self.µ_ = self.µ0_\n",
    "        y0 = self.S0_, self.E0_, self.I0_, self.R0_, self.D0_\n",
    "        f = lambda t, β, σ, γ, µ : (odeint(self.deriv, y0, t, args=(self.N_, β, σ, γ, µ)).T)[1]\n",
    "        params, errsb = scipy.optimize.curve_fit(f, X, y)\n",
    "        print(\"[β,σ,γ,µ] = [%s], Barres d'erreur = [%s]\" % (params, errsb))\n",
    "        return self\n",
    "        \n",
    "    def deriv(self, y, t, N, β, σ, γ, µ):\n",
    "        S,E,I,R,D = y\n",
    "        dSdt = -β * S * I/N\n",
    "        dEdt = β * S * I/N - (σ * E)\n",
    "        dIdt = σ * E - γ * I - µ * I\n",
    "        dRdt = γ * I\n",
    "        dDdt = µ * I\n",
    "        return dSdt, dEdt, dIdt, dRdt, dDdt\n",
    "    \n",
    "    def predict(self, X):\n",
    "        pass"
   ]
  }
 ],
 "metadata": {
  "kernelspec": {
   "display_name": "Python 3",
   "language": "python",
   "name": "python3"
  },
  "language_info": {
   "codemirror_mode": {
    "name": "ipython",
    "version": 3
   },
   "file_extension": ".py",
   "mimetype": "text/x-python",
   "name": "python",
   "nbconvert_exporter": "python",
   "pygments_lexer": "ipython3",
   "version": "3.7.6"
  }
 },
 "nbformat": 4,
 "nbformat_minor": 4
}
