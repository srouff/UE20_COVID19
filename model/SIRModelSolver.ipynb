{
 "cells": [
  {
   "cell_type": "code",
   "execution_count": null,
   "metadata": {},
   "outputs": [],
   "source": [
    "import numpy as np\n",
    "\n",
    "class SIRModelSolver():\n",
    "    def __init__(self, β_0, γ_0, S_0, I_0, R_0):\n",
    "        self.β_= β_0\n",
    "        self.γ_ = γ_0\n",
    "        self.S_ = S_0\n",
    "        self.I_ = I_0\n",
    "        self.R_ = R_0\n",
    "        \n",
    "    def fit(self, y):\n",
    "        pass\n",
    "    \n",
    "    def deriv(self, y, t, N, β, γ):\n",
    "        S,I,R = y\n",
    "        dSdt = -β * S * I / N\n",
    "        dIdt = β * S * I / N - γ * I\n",
    "        dRdt = γ * I\n",
    "        return dSdt, dIdt, dRdt\n",
    "    \n",
    "    def predict(self, X):\n",
    "        pass"
   ]
  }
 ],
 "metadata": {
  "kernelspec": {
   "display_name": "Python 3",
   "language": "python",
   "name": "python3"
  },
  "language_info": {
   "codemirror_mode": {
    "name": "ipython",
    "version": 3
   },
   "file_extension": ".py",
   "mimetype": "text/x-python",
   "name": "python",
   "nbconvert_exporter": "python",
   "pygments_lexer": "ipython3",
   "version": "3.7.6"
  }
 },
 "nbformat": 4,
 "nbformat_minor": 4
}
