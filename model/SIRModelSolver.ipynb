{
 "cells": [
  {
   "cell_type": "code",
   "execution_count": null,
   "metadata": {},
   "outputs": [],
   "source": [
    "import numpy as np\n",
    "\n",
    "class SIRModelSolver():\n",
    "    def __init__(self, β_0, γ_0, S_0, I_0, R_0):\n",
    "        self.β_= β_0\n",
    "        self.γ_ = γ_0\n",
    "        self.S_ = S_0\n",
    "        self.I_ = I_0\n",
    "        self.R_ = R_0\n",
    "        \n",
    "    def fit(self, y):\n",
    "        return odeint(deriv, y)\n",
    "    \n",
    "    def deriv(self, ndays, dt=1):\n",
    "        for i in range(ndays-1):\n",
    "            self.S_[i+1] = self.S_[i] - self.β_ * (self.S_[i] * self.I_[i]) * dt\n",
    "            self.I_[i+1] = self.I_[i] + (self.β_ * self.S_[i] * self.I_[1] - self.γ_ * self.I_[i]) * dt\n",
    "            self.R_[i+1] = self.R_[i] + (self.γ_ * self.I_[i]) * dt\n",
    "        return self.S_, self.I_, self.R_\n",
    "    \n",
    "    def predict(self, X):\n",
    "        pass"
   ]
  }
 ],
 "metadata": {
  "kernelspec": {
   "display_name": "Python 3",
   "language": "python",
   "name": "python3"
  },
  "language_info": {
   "codemirror_mode": {
    "name": "ipython",
    "version": 3
   },
   "file_extension": ".py",
   "mimetype": "text/x-python",
   "name": "python",
   "nbconvert_exporter": "python",
   "pygments_lexer": "ipython3",
   "version": "3.7.6"
  }
 },
 "nbformat": 4,
 "nbformat_minor": 4
}
