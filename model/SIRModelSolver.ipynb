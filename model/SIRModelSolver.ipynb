{
 "cells": [
  {
   "cell_type": "code",
   "execution_count": null,
   "metadata": {},
   "outputs": [],
   "source": [
    "import numpy as np\n",
    "\n",
    "class SIRModelSolver():\n",
    "    def __init__(self, β_0, γ_0):\n",
    "        self.β0_ = β_0\n",
    "        self.γ0_ = γ_0\n",
    "        self.β_ = None\n",
    "        self.γ_ = None\n",
    "        \n",
    "    def _fit(self, X, y):\n",
    "        self.β_ = self.β0_\n",
    "        self.γ_ = self.γ0_\n",
    "        return self\n",
    "        \n",
    "    def _deriv(self, y, t, N, β, γ):\n",
    "        S,I,R = y\n",
    "        dSdt = β * S * I / N\n",
    "        dIdt = β * S * I / N - γ * I\n",
    "        dRdt = γ * I\n",
    "        return dSdt, dIdt, dRdt\n",
    "    \n",
    "    def _predict(self, X):\n",
    "        pass"
   ]
  }
 ],
 "metadata": {
  "kernelspec": {
   "display_name": "Python 3",
   "language": "python",
   "name": "python3"
  },
  "language_info": {
   "codemirror_mode": {
    "name": "ipython",
    "version": 3
   },
   "file_extension": ".py",
   "mimetype": "text/x-python",
   "name": "python",
   "nbconvert_exporter": "python",
   "pygments_lexer": "ipython3",
   "version": "3.7.6"
  }
 },
 "nbformat": 4,
 "nbformat_minor": 4
}
