{
 "cells": [
  {
   "cell_type": "markdown",
   "metadata": {},
   "source": [
    "# Projet Science des Données - études des données COVID pour le Canada\n",
    "\n",
    "## But du projet:\n",
    "Créer des modèles épidémiologiques pour prédire l'évolution du COVID-19 à partir des données sur la maladie\n",
    "\n",
    "## Présentation des données\n",
    "Source des données: l'Université Johns Hopkins https://github.com/CSSEGISandData/COVID-19/tree/master/csse_covid_19_data/csse_covid_19_time_series\n",
    "### Données brutes:\n",
    "Ici on a juste le CSV des cas confirmées, on a aussi utilisé un CSV qui nous donnait les morts, et un autre le nombre de cas soignés.\n",
    "![DataCSV](https://i.imgur.com/Zvev5zI.png)\n",
    "### Nettoyage: \n",
    "![dataPandas](https://i.imgur.com/lMSmSXm.png)\n",
    "### Visuels pour mieux les appréhender:\n",
    "![covid_graph](https://i.imgur.com/Sz3y56N.png)\n",
    "![casePerDayGraph](https://i.imgur.com/EB1kpZR.png)\n",
    "![casesPerProvinces](https://i.imgur.com/rFAEPmf.png)"
   ]
  },
  {
   "cell_type": "markdown",
   "metadata": {},
   "source": [
    "## Explications sur les différents modèles utilisés\n",
    "### Modèle SIR\n",
    "SIR pour:\n",
    "- Suceptible (peut etre infecté)\n",
    "- Infected\n",
    "- Recovered.  \n",
    "\n",
    "Ce modèle se base sur deux paramètres: le taux d'infetion β\n",
    " et la vitesse de guérison γ\n",
    " \n",
    "### Modèle SEIR\n",
    "Identique au modèle SIR sauf que l'on rajoute une période d'incubation. Une personne infectée passe donc par deux états: un état Exposed où elle est contaminée mais pas contagieuse, et ensuite par un état Infected.\n",
    "\n",
    "### Modèle SEIRD\n",
    "Identique au modèle SEIR sauf qu'il prends en compte en plus les morts. La probabilité de mourir est donnée par un paramètre µ qui est le taux de mortalité de la maladie."
   ]
  },
  {
   "cell_type": "code",
   "execution_count": null,
   "metadata": {},
   "outputs": [],
   "source": []
  }
 ],
 "metadata": {
  "kernelspec": {
   "display_name": "Python 3",
   "language": "python",
   "name": "python3"
  },
  "language_info": {
   "codemirror_mode": {
    "name": "ipython",
    "version": 3
   },
   "file_extension": ".py",
   "mimetype": "text/x-python",
   "name": "python",
   "nbconvert_exporter": "python",
   "pygments_lexer": "ipython3",
   "version": "3.7.7"
  }
 },
 "nbformat": 4,
 "nbformat_minor": 4
}
