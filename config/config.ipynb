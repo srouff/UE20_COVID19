{
 "cells": [
  {
   "cell_type": "code",
   "execution_count": null,
   "metadata": {},
   "outputs": [],
   "source": [
    "## Chemin des données de la WHO\n",
    "WHO_PATH = \"./data/who_covid_19_sit_rep_time_series.csv\"\n",
    "\n",
    "## Chemin du dossier contenant les daily reports du CSSE\n",
    "CSSE_DAILY_REPORTS_DIR = \"./data/csse_covid_19_daily_reports\"\n",
    "## Chemin du dossier contenant un fichier agrégé des daily reports du CSSE\n",
    "CSSE_TIME_SERIES_DIR = \"./data/csse_covid19_time_series\""
   ]
  }
 ],
 "metadata": {
  "kernelspec": {
   "display_name": "Python 3",
   "language": "python",
   "name": "python3"
  },
  "language_info": {
   "codemirror_mode": {
    "name": "ipython",
    "version": 3
   },
   "file_extension": ".py",
   "mimetype": "text/x-python",
   "name": "python",
   "nbconvert_exporter": "python",
   "pygments_lexer": "ipython3",
   "version": "3.7.6"
  }
 },
 "nbformat": 4,
 "nbformat_minor": 4
}
